{
 "cells": [
  {
   "cell_type": "markdown",
   "id": "d4460ef6",
   "metadata": {},
   "source": [
    "# What I Hope To Learn In The Class\n",
    "\n",
    "1. to learn Python\n",
    "2. to continue to get better at coding\n",
    "3. to be more patient when when the system isn't working"
   ]
  },
  {
   "cell_type": "markdown",
   "id": "f20c0e22",
   "metadata": {},
   "source": [
    "Here's to hoping for a good semester!"
   ]
  },
  {
   "cell_type": "markdown",
   "id": "b6ab0343",
   "metadata": {},
   "source": [
    "### And now a dog photo"
   ]
  },
  {
   "cell_type": "markdown",
   "id": "1edf2c16",
   "metadata": {},
   "source": [
    "![](https://www.hdnicewallpapers.com/Walls/Big/Dog/Face_CloseUp_of_Dog_Photo.jpg)"
   ]
  },
  {
   "cell_type": "code",
   "execution_count": 6,
   "id": "41067d76",
   "metadata": {},
   "outputs": [
    {
     "name": "stdout",
     "output_type": "stream",
     "text": [
      "Andrew\n"
     ]
    }
   ],
   "source": [
    "x = \"Andrew\"\n",
    "print(x)"
   ]
  }
 ],
 "metadata": {
  "kernelspec": {
   "display_name": "Python 3 (ipykernel)",
   "language": "python",
   "name": "python3"
  },
  "language_info": {
   "codemirror_mode": {
    "name": "ipython",
    "version": 3
   },
   "file_extension": ".py",
   "mimetype": "text/x-python",
   "name": "python",
   "nbconvert_exporter": "python",
   "pygments_lexer": "ipython3",
   "version": "3.9.12"
  }
 },
 "nbformat": 4,
 "nbformat_minor": 5
}
